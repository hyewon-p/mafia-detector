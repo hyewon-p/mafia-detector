{
  "cells": [
    {
      "cell_type": "markdown",
      "source": [
        "## <RNN 기반 인랑 판독기 구현>에 사용되는 데이터를 스크랩핑하기 위한 소스코드\n",
        "\n",
        "BeautifulSoup와 Selenium을 이용하여 스크랩핑을 진행했다. <br>\n",
        "\n",
        "비밀 메세지들은 제외하고, 전체 공개인 메세지만을 수집하였고, 메세지의 내용, 캐릭터의 이름, 게임에서의 역할을 함께 저장하였다. 1일째~마지막날까지 페이지를 이동하며 데이터를 수집하였고, 실제 게임과는 관련이 없는 프롤로그와 에필로그 페이지는 제외했다. <br>\n",
        "\n",
        "총 23개의 마을에서 스크랩핑을 진행하여 각각 파일로 저장하였다."
      ],
      "metadata": {
        "id": "AubiYCRkjRy6"
      }
    },
    {
      "cell_type": "markdown",
      "source": [
        "# 준비"
      ],
      "metadata": {
        "id": "sVQmm20Ws34l"
      }
    },
    {
      "cell_type": "code",
      "execution_count": null,
      "metadata": {
        "id": "wfdc8d-42UHG",
        "colab": {
          "base_uri": "https://localhost:8080/"
        },
        "outputId": "80a34d08-9e36-4a9b-b2f6-2997777f5b03"
      },
      "outputs": [
        {
          "output_type": "stream",
          "name": "stdout",
          "text": [
            "Mounted at /content/gdrive/\n"
          ]
        }
      ],
      "source": [
        "from google.colab import drive\n",
        "drive.mount('/content/gdrive/')\n"
      ]
    },
    {
      "cell_type": "code",
      "execution_count": null,
      "metadata": {
        "id": "TjoxV9l31J5X"
      },
      "outputs": [],
      "source": [
        "import pandas as pd\n",
        "\n",
        "import requests\n",
        "from bs4 import BeautifulSoup\n",
        "\n",
        "\n",
        "import time\n",
        "import datetime\n",
        "\n",
        "import warnings\n",
        "warnings.filterwarnings('ignore')\n",
        "\n",
        "import gzip"
      ]
    },
    {
      "cell_type": "markdown",
      "source": [
        "페이지가 아코디언 방식으로 내용이 접혀있어 스크랩핑을 위해서는 브라우저 조작이 필요하다.<br>\n",
        "따라서, 셀레니움을 이용할 수 있도록 크롬 드라이버와 관련 라이브러리의 설치가 필요."
      ],
      "metadata": {
        "id": "ZrfS_FRqwRnd"
      }
    },
    {
      "cell_type": "code",
      "source": [
        "## 코드 출처: https://pgh268400.tistory.com/286\n",
        "\n",
        "# 최근 우분투 업데이트에서 크롬 드라이버 설치를 snap을 이용해서만 하도록 바뀜\n",
        "# 고로 snap 없이 설치하는 아래 우회 코드로 변경\n",
        "# 출처 : https://colab.research.google.com/drive/1cbEvuZOhkouYLda3RqiwtbM-o9hxGLyC\n",
        "# 출처2 : https://stackoverflow.com/questions/75155063/selenium-use-chrome-on-colab-got-unexpectedly-exited\n",
        "\n",
        "%%shell\n",
        "# Ubuntu no longer distributes chromium-browser outside of snap\n",
        "#\n",
        "# Proposed solution: https://askubuntu.com/questions/1204571/how-to-install-chromium-without-snap\n",
        "\n",
        "# Add debian buster\n",
        "cat > /etc/apt/sources.list.d/debian.list <<'EOF'\n",
        "deb [arch=amd64 signed-by=/usr/share/keyrings/debian-buster.gpg] http://deb.debian.org/debian buster main\n",
        "deb [arch=amd64 signed-by=/usr/share/keyrings/debian-buster-updates.gpg] http://deb.debian.org/debian buster-updates main\n",
        "deb [arch=amd64 signed-by=/usr/share/keyrings/debian-security-buster.gpg] http://deb.debian.org/debian-security buster/updates main\n",
        "EOF\n",
        "\n",
        "# Add keys\n",
        "apt-key adv --keyserver keyserver.ubuntu.com --recv-keys DCC9EFBF77E11517\n",
        "apt-key adv --keyserver keyserver.ubuntu.com --recv-keys 648ACFD622F3D138\n",
        "apt-key adv --keyserver keyserver.ubuntu.com --recv-keys 112695A0E562B32A\n",
        "\n",
        "apt-key export 77E11517 | gpg --dearmour -o /usr/share/keyrings/debian-buster.gpg\n",
        "apt-key export 22F3D138 | gpg --dearmour -o /usr/share/keyrings/debian-buster-updates.gpg\n",
        "apt-key export E562B32A | gpg --dearmour -o /usr/share/keyrings/debian-security-buster.gpg\n",
        "\n",
        "# Prefer debian repo for chromium* packages only\n",
        "# Note the double-blank lines between entries\n",
        "cat > /etc/apt/preferences.d/chromium.pref << 'EOF'\n",
        "Package: *\n",
        "Pin: release a=eoan\n",
        "Pin-Priority: 500\n",
        "\n",
        "\n",
        "Package: *\n",
        "Pin: origin \"deb.debian.org\"\n",
        "Pin-Priority: 300\n",
        "\n",
        "\n",
        "Package: chromium*\n",
        "Pin: origin \"deb.debian.org\"\n",
        "Pin-Priority: 700\n",
        "EOF\n",
        "\n",
        "# Install chromium and chromium-driver\n",
        "apt-get update\n",
        "apt-get install chromium chromium-driver\n",
        "\n",
        "# Install selenium\n",
        "pip install selenium"
      ],
      "metadata": {
        "colab": {
          "base_uri": "https://localhost:8080/"
        },
        "id": "TvgwC88r59wc",
        "outputId": "fe218bdd-56ac-4723-9cca-1ecf62e8a986"
      },
      "execution_count": null,
      "outputs": [
        {
          "output_type": "stream",
          "name": "stdout",
          "text": [
            "Executing: /tmp/apt-key-gpghome.SUASvNh7JO/gpg.1.sh --keyserver keyserver.ubuntu.com --recv-keys DCC9EFBF77E11517\n",
            "gpg: key DCC9EFBF77E11517: public key \"Debian Stable Release Key (10/buster) <debian-release@lists.debian.org>\" imported\n",
            "gpg: Total number processed: 1\n",
            "gpg:               imported: 1\n",
            "Executing: /tmp/apt-key-gpghome.PnJ7YGfbWH/gpg.1.sh --keyserver keyserver.ubuntu.com --recv-keys 648ACFD622F3D138\n",
            "gpg: key DC30D7C23CBBABEE: public key \"Debian Archive Automatic Signing Key (10/buster) <ftpmaster@debian.org>\" imported\n",
            "gpg: Total number processed: 1\n",
            "gpg:               imported: 1\n",
            "Executing: /tmp/apt-key-gpghome.1n76Cr9Rbc/gpg.1.sh --keyserver keyserver.ubuntu.com --recv-keys 112695A0E562B32A\n",
            "gpg: key 4DFAB270CAA96DFA: public key \"Debian Security Archive Automatic Signing Key (10/buster) <ftpmaster@debian.org>\" imported\n",
            "gpg: Total number processed: 1\n",
            "gpg:               imported: 1\n",
            "Warning: apt-key output should not be parsed (stdout is not a terminal)\n",
            "Warning: apt-key output should not be parsed (stdout is not a terminal)\n",
            "Warning: apt-key output should not be parsed (stdout is not a terminal)\n",
            "Get:1 http://deb.debian.org/debian buster InRelease [122 kB]\n",
            "Get:2 https://cloud.r-project.org/bin/linux/ubuntu focal-cran40/ InRelease [3,622 B]\n",
            "Get:3 http://deb.debian.org/debian buster-updates InRelease [56.6 kB]\n",
            "Get:4 http://deb.debian.org/debian-security buster/updates InRelease [34.8 kB]\n",
            "Hit:5 http://archive.ubuntu.com/ubuntu focal InRelease\n",
            "Get:6 http://archive.ubuntu.com/ubuntu focal-updates InRelease [114 kB]\n",
            "Get:7 http://deb.debian.org/debian buster/main amd64 Packages [10.7 MB]\n",
            "Get:8 http://archive.ubuntu.com/ubuntu focal-backports InRelease [108 kB]\n",
            "Hit:9 https://developer.download.nvidia.com/compute/cuda/repos/ubuntu2004/x86_64  InRelease\n",
            "Get:10 http://security.ubuntu.com/ubuntu focal-security InRelease [114 kB]\n",
            "Hit:11 http://ppa.launchpad.net/c2d4u.team/c2d4u4.0+/ubuntu focal InRelease\n",
            "Get:12 http://deb.debian.org/debian buster-updates/main amd64 Packages [9,745 B]\n",
            "Hit:13 http://ppa.launchpad.net/cran/libgit2/ubuntu focal InRelease\n",
            "Get:14 http://deb.debian.org/debian-security buster/updates/main amd64 Packages [661 kB]\n",
            "Hit:15 http://ppa.launchpad.net/deadsnakes/ppa/ubuntu focal InRelease\n",
            "Get:16 http://archive.ubuntu.com/ubuntu focal-updates/restricted amd64 Packages [2,538 kB]\n",
            "Get:17 http://ppa.launchpad.net/graphics-drivers/ppa/ubuntu focal InRelease [24.3 kB]\n",
            "Get:18 http://archive.ubuntu.com/ubuntu focal-updates/universe amd64 Packages [1,359 kB]\n",
            "Get:19 http://archive.ubuntu.com/ubuntu focal-updates/main amd64 Packages [3,282 kB]\n",
            "Hit:20 http://ppa.launchpad.net/ubuntugis/ppa/ubuntu focal InRelease\n",
            "Get:21 http://security.ubuntu.com/ubuntu focal-security/universe amd64 Packages [1,062 kB]\n",
            "Get:22 http://security.ubuntu.com/ubuntu focal-security/main amd64 Packages [2,803 kB]\n",
            "Get:23 http://security.ubuntu.com/ubuntu focal-security/restricted amd64 Packages [2,400 kB]\n",
            "Get:24 http://ppa.launchpad.net/graphics-drivers/ppa/ubuntu focal/main amd64 Packages [41.1 kB]\n",
            "Fetched 25.5 MB in 2s (15.0 MB/s)\n",
            "Reading package lists... Done\n",
            "Reading package lists... Done\n",
            "Building dependency tree       \n",
            "Reading state information... Done\n",
            "The following additional packages will be installed:\n",
            "  chromium-common chromium-sandbox libevent-2.1-6 libfontenc1 libicu63\n",
            "  libimobiledevice6 libjpeg62-turbo libplist3 libre2-5 libu2f-udev libudev1\n",
            "  libupower-glib3 libusbmuxd6 libvpx5 libxkbfile1 libxtst6 libxxf86dga1\n",
            "  notification-daemon udev upower usbmuxd x11-utils\n",
            "Suggested packages:\n",
            "  chromium-l10n chromium-shell libusbmuxd-tools mesa-utils\n",
            "The following NEW packages will be installed:\n",
            "  chromium chromium-common chromium-driver chromium-sandbox libevent-2.1-6\n",
            "  libfontenc1 libicu63 libimobiledevice6 libjpeg62-turbo libplist3 libre2-5\n",
            "  libu2f-udev libupower-glib3 libusbmuxd6 libvpx5 libxkbfile1 libxtst6\n",
            "  libxxf86dga1 notification-daemon udev upower usbmuxd x11-utils\n",
            "The following packages will be upgraded:\n",
            "  libudev1\n",
            "1 upgraded, 23 newly installed, 0 to remove and 20 not upgraded.\n",
            "Need to get 76.2 MB of archives.\n",
            "After this operation, 266 MB of additional disk space will be used.\n",
            "Get:1 http://deb.debian.org/debian buster/main amd64 libevent-2.1-6 amd64 2.1.8-stable-4 [177 kB]\n",
            "Get:2 http://deb.debian.org/debian buster/main amd64 libicu63 amd64 63.1-6+deb10u3 [8,293 kB]\n",
            "Get:3 http://archive.ubuntu.com/ubuntu focal-updates/main amd64 libudev1 amd64 245.4-4ubuntu3.22 [75.4 kB]\n",
            "Get:4 http://archive.ubuntu.com/ubuntu focal-updates/main amd64 udev amd64 245.4-4ubuntu3.22 [1,366 kB]\n",
            "Get:5 http://deb.debian.org/debian buster/main amd64 libjpeg62-turbo amd64 1:1.5.2-2+deb10u1 [133 kB]\n",
            "Get:6 http://deb.debian.org/debian buster/main amd64 libvpx5 amd64 1.7.0-3+deb10u1 [800 kB]\n",
            "Get:7 http://deb.debian.org/debian buster/main amd64 chromium-common amd64 90.0.4430.212-1~deb10u1 [1,423 kB]\n",
            "Get:8 http://archive.ubuntu.com/ubuntu focal/main amd64 libre2-5 amd64 20200101+dfsg-1build1 [162 kB]\n",
            "Get:9 http://archive.ubuntu.com/ubuntu focal/main amd64 libfontenc1 amd64 1:1.1.4-0ubuntu1 [14.0 kB]\n",
            "Get:10 http://archive.ubuntu.com/ubuntu focal/main amd64 libxkbfile1 amd64 1:1.1.0-1 [65.3 kB]\n",
            "Get:11 http://deb.debian.org/debian buster/main amd64 chromium amd64 90.0.4430.212-1~deb10u1 [58.3 MB]\n",
            "Get:12 http://archive.ubuntu.com/ubuntu focal/main amd64 libxtst6 amd64 2:1.2.3-1 [12.8 kB]\n",
            "Get:13 http://archive.ubuntu.com/ubuntu focal/main amd64 libxxf86dga1 amd64 2:1.1.5-0ubuntu1 [12.0 kB]\n",
            "Get:14 http://archive.ubuntu.com/ubuntu focal/main amd64 x11-utils amd64 7.7+5 [199 kB]\n",
            "Get:15 http://archive.ubuntu.com/ubuntu focal/main amd64 libplist3 amd64 2.1.0-4build2 [31.6 kB]\n",
            "Get:16 http://archive.ubuntu.com/ubuntu focal/main amd64 libusbmuxd6 amd64 2.0.1-2 [19.1 kB]\n",
            "Get:17 http://archive.ubuntu.com/ubuntu focal/main amd64 libimobiledevice6 amd64 1.2.1~git20191129.9f79242-1build1 [65.2 kB]\n",
            "Get:18 http://archive.ubuntu.com/ubuntu focal/main amd64 libu2f-udev all 1.1.10-1 [6,108 B]\n",
            "Get:19 http://archive.ubuntu.com/ubuntu focal/main amd64 libupower-glib3 amd64 0.99.11-1build2 [43.2 kB]\n",
            "Get:20 http://archive.ubuntu.com/ubuntu focal/universe amd64 notification-daemon amd64 3.20.0-4 [37.0 kB]\n",
            "Get:21 http://archive.ubuntu.com/ubuntu focal/main amd64 upower amd64 0.99.11-1build2 [104 kB]\n",
            "Get:22 http://archive.ubuntu.com/ubuntu focal/main amd64 usbmuxd amd64 1.1.1~git20191130.9af2b12-1 [38.4 kB]\n",
            "Get:23 http://deb.debian.org/debian buster/main amd64 chromium-driver amd64 90.0.4430.212-1~deb10u1 [4,703 kB]\n",
            "Get:24 http://deb.debian.org/debian buster/main amd64 chromium-sandbox amd64 90.0.4430.212-1~deb10u1 [146 kB]\n",
            "Fetched 76.2 MB in 1s (118 MB/s)\n",
            "(Reading database ... 123088 files and directories currently installed.)\n",
            "Preparing to unpack .../libudev1_245.4-4ubuntu3.22_amd64.deb ...\n",
            "Unpacking libudev1:amd64 (245.4-4ubuntu3.22) over (245.4-4ubuntu3.21) ...\n",
            "Setting up libudev1:amd64 (245.4-4ubuntu3.22) ...\n",
            "Selecting previously unselected package udev.\n",
            "(Reading database ... 123088 files and directories currently installed.)\n",
            "Preparing to unpack .../00-udev_245.4-4ubuntu3.22_amd64.deb ...\n",
            "Unpacking udev (245.4-4ubuntu3.22) ...\n",
            "Selecting previously unselected package libevent-2.1-6:amd64.\n",
            "Preparing to unpack .../01-libevent-2.1-6_2.1.8-stable-4_amd64.deb ...\n",
            "Unpacking libevent-2.1-6:amd64 (2.1.8-stable-4) ...\n",
            "Selecting previously unselected package libicu63:amd64.\n",
            "Preparing to unpack .../02-libicu63_63.1-6+deb10u3_amd64.deb ...\n",
            "Unpacking libicu63:amd64 (63.1-6+deb10u3) ...\n",
            "Selecting previously unselected package libjpeg62-turbo:amd64.\n",
            "Preparing to unpack .../03-libjpeg62-turbo_1%3a1.5.2-2+deb10u1_amd64.deb ...\n",
            "Unpacking libjpeg62-turbo:amd64 (1:1.5.2-2+deb10u1) ...\n",
            "Selecting previously unselected package libre2-5:amd64.\n",
            "Preparing to unpack .../04-libre2-5_20200101+dfsg-1build1_amd64.deb ...\n",
            "Unpacking libre2-5:amd64 (20200101+dfsg-1build1) ...\n",
            "Selecting previously unselected package libvpx5:amd64.\n",
            "Preparing to unpack .../05-libvpx5_1.7.0-3+deb10u1_amd64.deb ...\n",
            "Unpacking libvpx5:amd64 (1.7.0-3+deb10u1) ...\n",
            "Selecting previously unselected package libfontenc1:amd64.\n",
            "Preparing to unpack .../06-libfontenc1_1%3a1.1.4-0ubuntu1_amd64.deb ...\n",
            "Unpacking libfontenc1:amd64 (1:1.1.4-0ubuntu1) ...\n",
            "Selecting previously unselected package libxkbfile1:amd64.\n",
            "Preparing to unpack .../07-libxkbfile1_1%3a1.1.0-1_amd64.deb ...\n",
            "Unpacking libxkbfile1:amd64 (1:1.1.0-1) ...\n",
            "Selecting previously unselected package libxtst6:amd64.\n",
            "Preparing to unpack .../08-libxtst6_2%3a1.2.3-1_amd64.deb ...\n",
            "Unpacking libxtst6:amd64 (2:1.2.3-1) ...\n",
            "Selecting previously unselected package libxxf86dga1:amd64.\n",
            "Preparing to unpack .../09-libxxf86dga1_2%3a1.1.5-0ubuntu1_amd64.deb ...\n",
            "Unpacking libxxf86dga1:amd64 (2:1.1.5-0ubuntu1) ...\n",
            "Selecting previously unselected package x11-utils.\n",
            "Preparing to unpack .../10-x11-utils_7.7+5_amd64.deb ...\n",
            "Unpacking x11-utils (7.7+5) ...\n",
            "Selecting previously unselected package chromium-common.\n",
            "Preparing to unpack .../11-chromium-common_90.0.4430.212-1~deb10u1_amd64.deb ...\n",
            "Unpacking chromium-common (90.0.4430.212-1~deb10u1) ...\n",
            "Selecting previously unselected package chromium.\n",
            "Preparing to unpack .../12-chromium_90.0.4430.212-1~deb10u1_amd64.deb ...\n",
            "Unpacking chromium (90.0.4430.212-1~deb10u1) ...\n",
            "Selecting previously unselected package chromium-driver.\n",
            "Preparing to unpack .../13-chromium-driver_90.0.4430.212-1~deb10u1_amd64.deb ...\n",
            "Unpacking chromium-driver (90.0.4430.212-1~deb10u1) ...\n",
            "Selecting previously unselected package chromium-sandbox.\n",
            "Preparing to unpack .../14-chromium-sandbox_90.0.4430.212-1~deb10u1_amd64.deb ...\n",
            "Unpacking chromium-sandbox (90.0.4430.212-1~deb10u1) ...\n",
            "Selecting previously unselected package libplist3:amd64.\n",
            "Preparing to unpack .../15-libplist3_2.1.0-4build2_amd64.deb ...\n",
            "Unpacking libplist3:amd64 (2.1.0-4build2) ...\n",
            "Selecting previously unselected package libusbmuxd6:amd64.\n",
            "Preparing to unpack .../16-libusbmuxd6_2.0.1-2_amd64.deb ...\n",
            "Unpacking libusbmuxd6:amd64 (2.0.1-2) ...\n",
            "Selecting previously unselected package libimobiledevice6:amd64.\n",
            "Preparing to unpack .../17-libimobiledevice6_1.2.1~git20191129.9f79242-1build1_amd64.deb ...\n",
            "Unpacking libimobiledevice6:amd64 (1.2.1~git20191129.9f79242-1build1) ...\n",
            "Selecting previously unselected package libu2f-udev.\n",
            "Preparing to unpack .../18-libu2f-udev_1.1.10-1_all.deb ...\n",
            "Unpacking libu2f-udev (1.1.10-1) ...\n",
            "Selecting previously unselected package libupower-glib3:amd64.\n",
            "Preparing to unpack .../19-libupower-glib3_0.99.11-1build2_amd64.deb ...\n",
            "Unpacking libupower-glib3:amd64 (0.99.11-1build2) ...\n",
            "Selecting previously unselected package notification-daemon.\n",
            "Preparing to unpack .../20-notification-daemon_3.20.0-4_amd64.deb ...\n",
            "Unpacking notification-daemon (3.20.0-4) ...\n",
            "Selecting previously unselected package upower.\n",
            "Preparing to unpack .../21-upower_0.99.11-1build2_amd64.deb ...\n",
            "Unpacking upower (0.99.11-1build2) ...\n",
            "Selecting previously unselected package usbmuxd.\n",
            "Preparing to unpack .../22-usbmuxd_1.1.1~git20191130.9af2b12-1_amd64.deb ...\n",
            "Unpacking usbmuxd (1.1.1~git20191130.9af2b12-1) ...\n",
            "Setting up libplist3:amd64 (2.1.0-4build2) ...\n",
            "Setting up libxtst6:amd64 (2:1.2.3-1) ...\n",
            "Setting up libxxf86dga1:amd64 (2:1.1.5-0ubuntu1) ...\n",
            "Setting up chromium-sandbox (90.0.4430.212-1~deb10u1) ...\n",
            "Setting up libicu63:amd64 (63.1-6+deb10u3) ...\n",
            "Setting up notification-daemon (3.20.0-4) ...\n",
            "Setting up libfontenc1:amd64 (1:1.1.4-0ubuntu1) ...\n",
            "Setting up libjpeg62-turbo:amd64 (1:1.5.2-2+deb10u1) ...\n",
            "Setting up udev (245.4-4ubuntu3.22) ...\n",
            "invoke-rc.d: could not determine current runlevel\n",
            "invoke-rc.d: policy-rc.d denied execution of start.\n",
            "Setting up libevent-2.1-6:amd64 (2.1.8-stable-4) ...\n",
            "Setting up libusbmuxd6:amd64 (2.0.1-2) ...\n",
            "Setting up libupower-glib3:amd64 (0.99.11-1build2) ...\n",
            "Setting up libre2-5:amd64 (20200101+dfsg-1build1) ...\n",
            "Setting up libxkbfile1:amd64 (1:1.1.0-1) ...\n",
            "Setting up libimobiledevice6:amd64 (1.2.1~git20191129.9f79242-1build1) ...\n",
            "Setting up libvpx5:amd64 (1.7.0-3+deb10u1) ...\n",
            "Setting up libu2f-udev (1.1.10-1) ...\n",
            "Failed to send reload request: No such file or directory\n",
            "Setting up upower (0.99.11-1build2) ...\n",
            "Setting up usbmuxd (1.1.1~git20191130.9af2b12-1) ...\n",
            "Warning: The home dir /var/lib/usbmux you specified can't be accessed: No such file or directory\n",
            "Adding system user `usbmux' (UID 105) ...\n",
            "Adding new user `usbmux' (UID 105) with group `plugdev' ...\n",
            "Not creating home directory `/var/lib/usbmux'.\n",
            "Setting up x11-utils (7.7+5) ...\n",
            "Setting up chromium-common (90.0.4430.212-1~deb10u1) ...\n",
            "Setting up chromium (90.0.4430.212-1~deb10u1) ...\n",
            "update-alternatives: using /usr/bin/chromium to provide /usr/bin/x-www-browser (x-www-browser) in auto mode\n",
            "update-alternatives: using /usr/bin/chromium to provide /usr/bin/gnome-www-browser (gnome-www-browser) in auto mode\n",
            "Setting up chromium-driver (90.0.4430.212-1~deb10u1) ...\n",
            "Processing triggers for systemd (245.4-4ubuntu3.22) ...\n",
            "Processing triggers for man-db (2.9.1-1) ...\n",
            "Processing triggers for dbus (1.12.16-2ubuntu2.3) ...\n",
            "Processing triggers for mime-support (3.64ubuntu1) ...\n",
            "Processing triggers for hicolor-icon-theme (0.17-2) ...\n",
            "Processing triggers for libc-bin (2.31-0ubuntu9.9) ...\n",
            "Looking in indexes: https://pypi.org/simple, https://us-python.pkg.dev/colab-wheels/public/simple/\n",
            "Collecting selenium\n",
            "  Downloading selenium-4.10.0-py3-none-any.whl (6.7 MB)\n",
            "\u001b[2K     \u001b[90m━━━━━━━━━━━━━━━━━━━━━━━━━━━━━━━━━━━━━━━━\u001b[0m \u001b[32m6.7/6.7 MB\u001b[0m \u001b[31m102.8 MB/s\u001b[0m eta \u001b[36m0:00:00\u001b[0m\n",
            "\u001b[?25hRequirement already satisfied: urllib3[socks]<3,>=1.26 in /usr/local/lib/python3.10/dist-packages (from selenium) (1.26.15)\n",
            "Collecting trio~=0.17 (from selenium)\n",
            "  Downloading trio-0.22.0-py3-none-any.whl (384 kB)\n",
            "\u001b[2K     \u001b[90m━━━━━━━━━━━━━━━━━━━━━━━━━━━━━━━━━━━━━━\u001b[0m \u001b[32m384.9/384.9 kB\u001b[0m \u001b[31m39.7 MB/s\u001b[0m eta \u001b[36m0:00:00\u001b[0m\n",
            "\u001b[?25hCollecting trio-websocket~=0.9 (from selenium)\n",
            "  Downloading trio_websocket-0.10.3-py3-none-any.whl (17 kB)\n",
            "Requirement already satisfied: certifi>=2021.10.8 in /usr/local/lib/python3.10/dist-packages (from selenium) (2022.12.7)\n",
            "Requirement already satisfied: attrs>=19.2.0 in /usr/local/lib/python3.10/dist-packages (from trio~=0.17->selenium) (23.1.0)\n",
            "Requirement already satisfied: sortedcontainers in /usr/local/lib/python3.10/dist-packages (from trio~=0.17->selenium) (2.4.0)\n",
            "Collecting async-generator>=1.9 (from trio~=0.17->selenium)\n",
            "  Downloading async_generator-1.10-py3-none-any.whl (18 kB)\n",
            "Requirement already satisfied: idna in /usr/local/lib/python3.10/dist-packages (from trio~=0.17->selenium) (3.4)\n",
            "Collecting outcome (from trio~=0.17->selenium)\n",
            "  Downloading outcome-1.2.0-py2.py3-none-any.whl (9.7 kB)\n",
            "Requirement already satisfied: sniffio in /usr/local/lib/python3.10/dist-packages (from trio~=0.17->selenium) (1.3.0)\n",
            "Requirement already satisfied: exceptiongroup>=1.0.0rc9 in /usr/local/lib/python3.10/dist-packages (from trio~=0.17->selenium) (1.1.1)\n",
            "Collecting wsproto>=0.14 (from trio-websocket~=0.9->selenium)\n",
            "  Downloading wsproto-1.2.0-py3-none-any.whl (24 kB)\n",
            "Requirement already satisfied: PySocks!=1.5.7,<2.0,>=1.5.6 in /usr/local/lib/python3.10/dist-packages (from urllib3[socks]<3,>=1.26->selenium) (1.7.1)\n",
            "Collecting h11<1,>=0.9.0 (from wsproto>=0.14->trio-websocket~=0.9->selenium)\n",
            "  Downloading h11-0.14.0-py3-none-any.whl (58 kB)\n",
            "\u001b[2K     \u001b[90m━━━━━━━━━━━━━━━━━━━━━━━━━━━━━━━━━━━━━━━━\u001b[0m \u001b[32m58.3/58.3 kB\u001b[0m \u001b[31m6.6 MB/s\u001b[0m eta \u001b[36m0:00:00\u001b[0m\n",
            "\u001b[?25hInstalling collected packages: outcome, h11, async-generator, wsproto, trio, trio-websocket, selenium\n",
            "Successfully installed async-generator-1.10 h11-0.14.0 outcome-1.2.0 selenium-4.10.0 trio-0.22.0 trio-websocket-0.10.3 wsproto-1.2.0\n"
          ]
        },
        {
          "output_type": "execute_result",
          "data": {
            "text/plain": []
          },
          "metadata": {},
          "execution_count": 4
        }
      ]
    },
    {
      "cell_type": "code",
      "source": [
        "from selenium import webdriver\n",
        "from selenium.webdriver.common.by import By\n",
        "from selenium.webdriver.common.keys import Keys\n",
        "\n",
        "options = webdriver.ChromeOptions()\n",
        "options.add_argument('--headless')        # Head-less 설정\n",
        "options.add_argument('--no-sandbox')\n",
        "options.add_argument('--disable-dev-shm-usage')\n"
      ],
      "metadata": {
        "id": "LNVHCZTC5UXA"
      },
      "execution_count": null,
      "outputs": []
    },
    {
      "cell_type": "code",
      "source": [
        "# 파일을 저장할 위치 설정\n",
        "\n",
        "file_path =  \"/content/gdrive/My Drive/Colab Notebooks/scrapData/\""
      ],
      "metadata": {
        "id": "kceHzxCXoO5h"
      },
      "execution_count": null,
      "outputs": []
    },
    {
      "cell_type": "markdown",
      "metadata": {
        "id": "ySNjQgig1_nr"
      },
      "source": [
        "## ■ 사이트에서 데이터를 수집\n",
        "\n",
        "데이터 출처 사이트: http://werewolf.co.kr/bbs/zboard.php?id=werewolf\n",
        "\n",
        "\n",
        "\n"
      ]
    },
    {
      "cell_type": "code",
      "execution_count": null,
      "metadata": {
        "id": "QgYS60Ux1T6N"
      },
      "outputs": [],
      "source": [
        "headers = {'User-Agent':'Mozilla/5.0 (Windows NT 6.3; Win64; x64) AppleWebKit/537.36 (KHTML, like Gecko) Chrome/63.0.3239.132 Safari/537.36'}\n",
        "title = ''\n",
        "def scraper(gameNum):\n",
        "    global title\n",
        "    log_df = pd.DataFrame(columns=(\"Name\", \"Role\", \"Message\"))\n",
        "    wolf_url = 'http://werewolf.co.kr/bbs/view.php?id=werewolf&no={0}'.format(str(gameNum))\n",
        "\n",
        "    req = requests.get(wolf_url)\n",
        "\n",
        "    # cont = req.content 부분에서 에러 발생\n",
        "    # WARNING:bs4.dammit:Some characters could not be decoded, and were replaced with REPLACEMENT CHARACTER.\n",
        "    # Content-Encoding: gzip 문구를 보고 검색을 통해 본문이 압축된 상태라는 것을 알게됨\n",
        "\n",
        "    cont = gzip.decompress(req.content)\n",
        "\n",
        "    soup = BeautifulSoup(cont,'html.parser',from_encoding='EUR-KR')\n",
        "\n",
        "    # 마을 이름을 파일명으로 사용할 것이므로 global 변수 title에 저장\n",
        "    title = soup.select('#viewStateAll .content')[0].text\n",
        "\n",
        "    # viewDay의 마지막 날은 게임이 끝나고 난 후 플레이어들끼리 후일담을 나누는 에필로그이므로 제외\n",
        "    lastDay = soup.select('div.viewDay a')[-2].text[0]\n",
        "    index = 0\n",
        "    viewDay = 1\n",
        "\n",
        "    while viewDay <= int(lastDay):\n",
        "        # viewMode=all로 설정해야 각 플레이어의 역할이 보임\n",
        "        # 단, 이 경우 개인 메모와 인랑 비밀 메세지를 비롯한 모든 로그가 함께 열람되므로\n",
        "        # class를 지정하여 공개 메세지만 스크랩핑하여야 함\n",
        "\n",
        "        url = '{0}&viewDay={1}&viewChar=&viewMode=all'.format(wolf_url, str(viewDay))\n",
        "\n",
        "        # 주소를 옮길 때마다 드라이버를 초기화해주어야 함\n",
        "        driver = webdriver.Chrome(options=options)\n",
        "        driver.implicitly_wait(1)\n",
        "        driver.get(url)\n",
        "        driver.implicitly_wait(1)\n",
        "        element = driver.find_element(By.ID, \"buttonOpenCommentPagesAll\")\n",
        "        driver.execute_script(\"arguments[0].click()\",element)\n",
        "\n",
        "        # 모든 로그를 펼치는 시간을 기다림. 에러가 뜬다면 보통 이 단계에서 로딩이 완료되기 전 접근을 시도하는 것이므로 시간을 늘릴 것.\n",
        "        # 페이지 자체의 로딩이 오래 걸릴 수 있으니 위의 implicitly_wait의 시간을 늘리는 것도 시도할 수 있다.\n",
        "        time.sleep(30)\n",
        "\n",
        "        html = driver.page_source\n",
        "\n",
        "        print('▶ 수집 중인 페이지 = ', url)\n",
        "\n",
        "        soup = BeautifulSoup(html,'html.parser',from_encoding='EUR-KR')\n",
        "\n",
        "        for urls in soup.select(\".comment.normal\"):\n",
        "            try:\n",
        "                name = urls.select('span.c_name>label')[0].text\n",
        "            except:\n",
        "                name = urls.select('span.c_Name>label')[0].text\n",
        "\n",
        "            role = urls.select('span.playerInfo')[0].text.split(' / ')[1]\n",
        "            message = urls.select('.message')[0].text.replace('\\n',' ').replace('\\t',' ').replace('\\r',' ')\n",
        "\n",
        "            log_df.loc[index] = [name, role, message]\n",
        "            index += 1\n",
        "\n",
        "        viewDay += 1\n",
        "\n",
        "    print()\n",
        "    print('Completed! 🌞🌞🌞🌞🌞🌞🌞🌞🌞🌞🌞🌞🌞🌞🌞🌞🌞🌞🌞🌞🌞 ')\n",
        "\n",
        "    return log_df\n",
        "\n",
        "\n"
      ]
    },
    {
      "cell_type": "markdown",
      "source": [
        "총 23개의 마을을 스크랩핑했다. <br>\n",
        "각 마을의 게임 코드는 다음과 같으며, 셀레니움이 페이지가 로딩되기 전 클릭을 시도하는 등 인터넷 연결 상태에 따라 오류가 생길 수 있다.<br>\n",
        "\n",
        "['2486', '3326', '4915', '2765', '3130', '2463', '2823', '1762', '1628', '1362', '1454', '1497', '1537', '6553', '6718', '4119', '4591', '6149', '5878', '5777', '5592', '4154', '4110']"
      ],
      "metadata": {
        "id": "ooFtaufKxXMO"
      }
    },
    {
      "cell_type": "code",
      "source": [
        "for gameCode in ['5592','4154','4110']:\n",
        "    log_df = scraper(gameCode)\n",
        "    file_name = title + \".csv\"\n",
        "    file_full_path = file_path + file_name\n",
        "    log_df.to_csv(file_full_path, index = False, encoding=\"utf-8-sig\")\n"
      ],
      "metadata": {
        "colab": {
          "base_uri": "https://localhost:8080/"
        },
        "id": "CZZxCVSrn4pC",
        "outputId": "6a80eedd-4eec-4e1a-bdd0-f64ecd6dbc13"
      },
      "execution_count": null,
      "outputs": [
        {
          "output_type": "stream",
          "name": "stderr",
          "text": [
            "WARNING:urllib3.connectionpool:Failed to parse headers (url=http://werewolf.co.kr:80/bbs/view.php?id=werewolf&no=5592): [MissingHeaderBodySeparatorDefect()], unparsed data: 'P3P : CP=\"ALL CURa ADMa DEVa TAIa OUR BUS IND PHY ONL UNI PUR FIN COM NAV INT DEM CNT STA POL HEA PRE LOC OTC\"\\r\\nSet-Cookie: PHPSESSID=a55f5e11292d678966673034dd0db52d; path=/\\r\\nContent-Encoding: gzip\\r\\n\\r\\n'\n",
            "Traceback (most recent call last):\n",
            "  File \"/usr/local/lib/python3.10/dist-packages/urllib3/connectionpool.py\", line 469, in _make_request\n",
            "    assert_header_parsing(httplib_response.msg)\n",
            "  File \"/usr/local/lib/python3.10/dist-packages/urllib3/util/response.py\", line 91, in assert_header_parsing\n",
            "    raise HeaderParsingError(defects=defects, unparsed_data=unparsed_data)\n",
            "urllib3.exceptions.HeaderParsingError: [MissingHeaderBodySeparatorDefect()], unparsed data: 'P3P : CP=\"ALL CURa ADMa DEVa TAIa OUR BUS IND PHY ONL UNI PUR FIN COM NAV INT DEM CNT STA POL HEA PRE LOC OTC\"\\r\\nSet-Cookie: PHPSESSID=a55f5e11292d678966673034dd0db52d; path=/\\r\\nContent-Encoding: gzip\\r\\n\\r\\n'\n"
          ]
        },
        {
          "output_type": "stream",
          "name": "stdout",
          "text": [
            "▶ 수집 중인 페이지 =  http://werewolf.co.kr/bbs/view.php?id=werewolf&no=5592&viewDay=1&viewChar=&viewMode=all\n",
            "▶ 수집 중인 페이지 =  http://werewolf.co.kr/bbs/view.php?id=werewolf&no=5592&viewDay=2&viewChar=&viewMode=all\n",
            "▶ 수집 중인 페이지 =  http://werewolf.co.kr/bbs/view.php?id=werewolf&no=5592&viewDay=3&viewChar=&viewMode=all\n",
            "▶ 수집 중인 페이지 =  http://werewolf.co.kr/bbs/view.php?id=werewolf&no=5592&viewDay=4&viewChar=&viewMode=all\n",
            "▶ 수집 중인 페이지 =  http://werewolf.co.kr/bbs/view.php?id=werewolf&no=5592&viewDay=5&viewChar=&viewMode=all\n",
            "▶ 수집 중인 페이지 =  http://werewolf.co.kr/bbs/view.php?id=werewolf&no=5592&viewDay=6&viewChar=&viewMode=all\n",
            "▶ 수집 중인 페이지 =  http://werewolf.co.kr/bbs/view.php?id=werewolf&no=5592&viewDay=7&viewChar=&viewMode=all\n",
            "\n",
            "Completed! 🌞🌞🌞🌞🌞🌞🌞🌞🌞🌞🌞🌞🌞🌞🌞🌞🌞🌞🌞🌞🌞 \n"
          ]
        },
        {
          "output_type": "stream",
          "name": "stderr",
          "text": [
            "WARNING:urllib3.connectionpool:Failed to parse headers (url=http://werewolf.co.kr:80/bbs/view.php?id=werewolf&no=4154): [MissingHeaderBodySeparatorDefect()], unparsed data: 'P3P : CP=\"ALL CURa ADMa DEVa TAIa OUR BUS IND PHY ONL UNI PUR FIN COM NAV INT DEM CNT STA POL HEA PRE LOC OTC\"\\r\\nSet-Cookie: PHPSESSID=707fb2ac2b5c41984f778403e6e85845; path=/\\r\\nContent-Encoding: gzip\\r\\n\\r\\n'\n",
            "Traceback (most recent call last):\n",
            "  File \"/usr/local/lib/python3.10/dist-packages/urllib3/connectionpool.py\", line 469, in _make_request\n",
            "    assert_header_parsing(httplib_response.msg)\n",
            "  File \"/usr/local/lib/python3.10/dist-packages/urllib3/util/response.py\", line 91, in assert_header_parsing\n",
            "    raise HeaderParsingError(defects=defects, unparsed_data=unparsed_data)\n",
            "urllib3.exceptions.HeaderParsingError: [MissingHeaderBodySeparatorDefect()], unparsed data: 'P3P : CP=\"ALL CURa ADMa DEVa TAIa OUR BUS IND PHY ONL UNI PUR FIN COM NAV INT DEM CNT STA POL HEA PRE LOC OTC\"\\r\\nSet-Cookie: PHPSESSID=707fb2ac2b5c41984f778403e6e85845; path=/\\r\\nContent-Encoding: gzip\\r\\n\\r\\n'\n"
          ]
        },
        {
          "output_type": "stream",
          "name": "stdout",
          "text": [
            "▶ 수집 중인 페이지 =  http://werewolf.co.kr/bbs/view.php?id=werewolf&no=4154&viewDay=1&viewChar=&viewMode=all\n",
            "▶ 수집 중인 페이지 =  http://werewolf.co.kr/bbs/view.php?id=werewolf&no=4154&viewDay=2&viewChar=&viewMode=all\n",
            "▶ 수집 중인 페이지 =  http://werewolf.co.kr/bbs/view.php?id=werewolf&no=4154&viewDay=3&viewChar=&viewMode=all\n",
            "▶ 수집 중인 페이지 =  http://werewolf.co.kr/bbs/view.php?id=werewolf&no=4154&viewDay=4&viewChar=&viewMode=all\n",
            "\n",
            "Completed! 🌞🌞🌞🌞🌞🌞🌞🌞🌞🌞🌞🌞🌞🌞🌞🌞🌞🌞🌞🌞🌞 \n"
          ]
        },
        {
          "output_type": "stream",
          "name": "stderr",
          "text": [
            "WARNING:urllib3.connectionpool:Failed to parse headers (url=http://werewolf.co.kr:80/bbs/view.php?id=werewolf&no=4110): [MissingHeaderBodySeparatorDefect()], unparsed data: 'P3P : CP=\"ALL CURa ADMa DEVa TAIa OUR BUS IND PHY ONL UNI PUR FIN COM NAV INT DEM CNT STA POL HEA PRE LOC OTC\"\\r\\nSet-Cookie: PHPSESSID=ae25d5037ccbcc4400682afbad4132c4; path=/\\r\\nContent-Encoding: gzip\\r\\n\\r\\n'\n",
            "Traceback (most recent call last):\n",
            "  File \"/usr/local/lib/python3.10/dist-packages/urllib3/connectionpool.py\", line 469, in _make_request\n",
            "    assert_header_parsing(httplib_response.msg)\n",
            "  File \"/usr/local/lib/python3.10/dist-packages/urllib3/util/response.py\", line 91, in assert_header_parsing\n",
            "    raise HeaderParsingError(defects=defects, unparsed_data=unparsed_data)\n",
            "urllib3.exceptions.HeaderParsingError: [MissingHeaderBodySeparatorDefect()], unparsed data: 'P3P : CP=\"ALL CURa ADMa DEVa TAIa OUR BUS IND PHY ONL UNI PUR FIN COM NAV INT DEM CNT STA POL HEA PRE LOC OTC\"\\r\\nSet-Cookie: PHPSESSID=ae25d5037ccbcc4400682afbad4132c4; path=/\\r\\nContent-Encoding: gzip\\r\\n\\r\\n'\n"
          ]
        },
        {
          "output_type": "stream",
          "name": "stdout",
          "text": [
            "▶ 수집 중인 페이지 =  http://werewolf.co.kr/bbs/view.php?id=werewolf&no=4110&viewDay=1&viewChar=&viewMode=all\n",
            "▶ 수집 중인 페이지 =  http://werewolf.co.kr/bbs/view.php?id=werewolf&no=4110&viewDay=2&viewChar=&viewMode=all\n",
            "▶ 수집 중인 페이지 =  http://werewolf.co.kr/bbs/view.php?id=werewolf&no=4110&viewDay=3&viewChar=&viewMode=all\n",
            "▶ 수집 중인 페이지 =  http://werewolf.co.kr/bbs/view.php?id=werewolf&no=4110&viewDay=4&viewChar=&viewMode=all\n",
            "\n",
            "Completed! 🌞🌞🌞🌞🌞🌞🌞🌞🌞🌞🌞🌞🌞🌞🌞🌞🌞🌞🌞🌞🌞 \n"
          ]
        }
      ]
    },
    {
      "cell_type": "markdown",
      "source": [
        "## 단일 마을을 스크랩핑하거나 파일을 열어 내용을 확인하고자 하는 경우"
      ],
      "metadata": {
        "id": "_FkPPYnH0srE"
      }
    },
    {
      "cell_type": "code",
      "source": [
        "start = time.time()    # 시작 시간 기록\n",
        "\n",
        "gameNum = '3130'\n",
        "log_df = scraper(gameNum)\n",
        "\n",
        "\n",
        "processing_time = time.time() - start    # 경과 시간 계산\n",
        "times = str(datetime.timedelta(seconds = processing_time))\n",
        "\n",
        "print()\n",
        "print(\"◎ 수행시간 = \", times)"
      ],
      "metadata": {
        "colab": {
          "base_uri": "https://localhost:8080/"
        },
        "id": "0q8XhmU4g9GX",
        "outputId": "1c2fa478-7ae1-40cd-e75e-4da16c620241"
      },
      "execution_count": null,
      "outputs": [
        {
          "output_type": "stream",
          "name": "stderr",
          "text": [
            "WARNING:urllib3.connectionpool:Failed to parse headers (url=http://werewolf.co.kr:80/bbs/view.php?id=werewolf&no=3130): [MissingHeaderBodySeparatorDefect()], unparsed data: 'P3P : CP=\"ALL CURa ADMa DEVa TAIa OUR BUS IND PHY ONL UNI PUR FIN COM NAV INT DEM CNT STA POL HEA PRE LOC OTC\"\\r\\nSet-Cookie: PHPSESSID=452bd790159f9fb3a6b261029192da14; path=/\\r\\nContent-Encoding: gzip\\r\\n\\r\\n'\n",
            "Traceback (most recent call last):\n",
            "  File \"/usr/local/lib/python3.10/dist-packages/urllib3/connectionpool.py\", line 469, in _make_request\n",
            "    assert_header_parsing(httplib_response.msg)\n",
            "  File \"/usr/local/lib/python3.10/dist-packages/urllib3/util/response.py\", line 91, in assert_header_parsing\n",
            "    raise HeaderParsingError(defects=defects, unparsed_data=unparsed_data)\n",
            "urllib3.exceptions.HeaderParsingError: [MissingHeaderBodySeparatorDefect()], unparsed data: 'P3P : CP=\"ALL CURa ADMa DEVa TAIa OUR BUS IND PHY ONL UNI PUR FIN COM NAV INT DEM CNT STA POL HEA PRE LOC OTC\"\\r\\nSet-Cookie: PHPSESSID=452bd790159f9fb3a6b261029192da14; path=/\\r\\nContent-Encoding: gzip\\r\\n\\r\\n'\n"
          ]
        },
        {
          "output_type": "stream",
          "name": "stdout",
          "text": [
            "▶ 수집 중인 페이지 =  http://werewolf.co.kr/bbs/view.php?id=werewolf&no=3130&viewDay=1&viewChar=&viewMode=all\n",
            "▶ 수집 중인 페이지 =  http://werewolf.co.kr/bbs/view.php?id=werewolf&no=3130&viewDay=2&viewChar=&viewMode=all\n",
            "▶ 수집 중인 페이지 =  http://werewolf.co.kr/bbs/view.php?id=werewolf&no=3130&viewDay=3&viewChar=&viewMode=all\n",
            "▶ 수집 중인 페이지 =  http://werewolf.co.kr/bbs/view.php?id=werewolf&no=3130&viewDay=4&viewChar=&viewMode=all\n",
            "▶ 수집 중인 페이지 =  http://werewolf.co.kr/bbs/view.php?id=werewolf&no=3130&viewDay=5&viewChar=&viewMode=all\n",
            "▶ 수집 중인 페이지 =  http://werewolf.co.kr/bbs/view.php?id=werewolf&no=3130&viewDay=6&viewChar=&viewMode=all\n",
            "▶ 수집 중인 페이지 =  http://werewolf.co.kr/bbs/view.php?id=werewolf&no=3130&viewDay=7&viewChar=&viewMode=all\n",
            "\n",
            "Completed! 🌞🌞🌞🌞🌞🌞🌞🌞🌞🌞🌞🌞🌞🌞🌞🌞🌞🌞🌞🌞🌞 \n",
            "\n",
            "◎ 수행시간 =  0:03:59.117727\n"
          ]
        }
      ]
    },
    {
      "cell_type": "code",
      "source": [
        "log_df[:10]"
      ],
      "metadata": {
        "colab": {
          "base_uri": "https://localhost:8080/",
          "height": 363
        },
        "id": "dhxMxiNapa2K",
        "outputId": "dd836bc6-ed52-4e15-f1d2-6168a0c56851"
      },
      "execution_count": null,
      "outputs": [
        {
          "output_type": "execute_result",
          "data": {
            "text/plain": [
              "       Name  Role                                            Message\n",
              "0       NPC  마을사람                                       초심을 잃지 마시길..\n",
              "1      이클립스  마을사람                              ㄴㅁㄹㅇㄹㅇㄴㄹ 자러감         \n",
              "2      드라큐라  마을사람                                         점쟁이들 나오셔들.\n",
              "3      인큐버스  마을사람                                    시작했군요.         \n",
              "4      드라큐라  마을사람                                 아무도 없... 이클립스 한명뿐?\n",
              "5      이클립스  마을사람                              양심상 점코는 보고갈랬는데 넘 느리다 \n",
              "6  안식을 주는 자    인랑  안녕하세요? 여러분께 안식과 평화를 가져다드릴 안식을 주는 자 입니다. 직업 확인했...\n",
              "7      드라큐라  마을사람                           점쟁이 나오라긔... 나도 자러 가야 해! \n",
              "8      이클립스  마을사람                 몰라 나 잘래 피곤해 드라큐라랑 인큐버스도 좋은꿈꿔      \n",
              "9    오크 베이비  초능력자  ㅂ ㅔ 이비 와쪄염 뿌우 ~'ㅅ'  근데여 님들 제가 마마몬 태클을 극심하게 뚫고 ..."
            ],
            "text/html": [
              "\n",
              "  <div id=\"df-75979de8-79b1-4459-9f58-6231906207dc\">\n",
              "    <div class=\"colab-df-container\">\n",
              "      <div>\n",
              "<style scoped>\n",
              "    .dataframe tbody tr th:only-of-type {\n",
              "        vertical-align: middle;\n",
              "    }\n",
              "\n",
              "    .dataframe tbody tr th {\n",
              "        vertical-align: top;\n",
              "    }\n",
              "\n",
              "    .dataframe thead th {\n",
              "        text-align: right;\n",
              "    }\n",
              "</style>\n",
              "<table border=\"1\" class=\"dataframe\">\n",
              "  <thead>\n",
              "    <tr style=\"text-align: right;\">\n",
              "      <th></th>\n",
              "      <th>Name</th>\n",
              "      <th>Role</th>\n",
              "      <th>Message</th>\n",
              "    </tr>\n",
              "  </thead>\n",
              "  <tbody>\n",
              "    <tr>\n",
              "      <th>0</th>\n",
              "      <td>NPC</td>\n",
              "      <td>마을사람</td>\n",
              "      <td>초심을 잃지 마시길..</td>\n",
              "    </tr>\n",
              "    <tr>\n",
              "      <th>1</th>\n",
              "      <td>이클립스</td>\n",
              "      <td>마을사람</td>\n",
              "      <td>ㄴㅁㄹㅇㄹㅇㄴㄹ 자러감</td>\n",
              "    </tr>\n",
              "    <tr>\n",
              "      <th>2</th>\n",
              "      <td>드라큐라</td>\n",
              "      <td>마을사람</td>\n",
              "      <td>점쟁이들 나오셔들.</td>\n",
              "    </tr>\n",
              "    <tr>\n",
              "      <th>3</th>\n",
              "      <td>인큐버스</td>\n",
              "      <td>마을사람</td>\n",
              "      <td>시작했군요.</td>\n",
              "    </tr>\n",
              "    <tr>\n",
              "      <th>4</th>\n",
              "      <td>드라큐라</td>\n",
              "      <td>마을사람</td>\n",
              "      <td>아무도 없... 이클립스 한명뿐?</td>\n",
              "    </tr>\n",
              "    <tr>\n",
              "      <th>5</th>\n",
              "      <td>이클립스</td>\n",
              "      <td>마을사람</td>\n",
              "      <td>양심상 점코는 보고갈랬는데 넘 느리다</td>\n",
              "    </tr>\n",
              "    <tr>\n",
              "      <th>6</th>\n",
              "      <td>안식을 주는 자</td>\n",
              "      <td>인랑</td>\n",
              "      <td>안녕하세요? 여러분께 안식과 평화를 가져다드릴 안식을 주는 자 입니다. 직업 확인했...</td>\n",
              "    </tr>\n",
              "    <tr>\n",
              "      <th>7</th>\n",
              "      <td>드라큐라</td>\n",
              "      <td>마을사람</td>\n",
              "      <td>점쟁이 나오라긔... 나도 자러 가야 해!</td>\n",
              "    </tr>\n",
              "    <tr>\n",
              "      <th>8</th>\n",
              "      <td>이클립스</td>\n",
              "      <td>마을사람</td>\n",
              "      <td>몰라 나 잘래 피곤해 드라큐라랑 인큐버스도 좋은꿈꿔</td>\n",
              "    </tr>\n",
              "    <tr>\n",
              "      <th>9</th>\n",
              "      <td>오크 베이비</td>\n",
              "      <td>초능력자</td>\n",
              "      <td>ㅂ ㅔ 이비 와쪄염 뿌우 ~'ㅅ'  근데여 님들 제가 마마몬 태클을 극심하게 뚫고 ...</td>\n",
              "    </tr>\n",
              "  </tbody>\n",
              "</table>\n",
              "</div>\n",
              "      <button class=\"colab-df-convert\" onclick=\"convertToInteractive('df-75979de8-79b1-4459-9f58-6231906207dc')\"\n",
              "              title=\"Convert this dataframe to an interactive table.\"\n",
              "              style=\"display:none;\">\n",
              "        \n",
              "  <svg xmlns=\"http://www.w3.org/2000/svg\" height=\"24px\"viewBox=\"0 0 24 24\"\n",
              "       width=\"24px\">\n",
              "    <path d=\"M0 0h24v24H0V0z\" fill=\"none\"/>\n",
              "    <path d=\"M18.56 5.44l.94 2.06.94-2.06 2.06-.94-2.06-.94-.94-2.06-.94 2.06-2.06.94zm-11 1L8.5 8.5l.94-2.06 2.06-.94-2.06-.94L8.5 2.5l-.94 2.06-2.06.94zm10 10l.94 2.06.94-2.06 2.06-.94-2.06-.94-.94-2.06-.94 2.06-2.06.94z\"/><path d=\"M17.41 7.96l-1.37-1.37c-.4-.4-.92-.59-1.43-.59-.52 0-1.04.2-1.43.59L10.3 9.45l-7.72 7.72c-.78.78-.78 2.05 0 2.83L4 21.41c.39.39.9.59 1.41.59.51 0 1.02-.2 1.41-.59l7.78-7.78 2.81-2.81c.8-.78.8-2.07 0-2.86zM5.41 20L4 18.59l7.72-7.72 1.47 1.35L5.41 20z\"/>\n",
              "  </svg>\n",
              "      </button>\n",
              "      \n",
              "  <style>\n",
              "    .colab-df-container {\n",
              "      display:flex;\n",
              "      flex-wrap:wrap;\n",
              "      gap: 12px;\n",
              "    }\n",
              "\n",
              "    .colab-df-convert {\n",
              "      background-color: #E8F0FE;\n",
              "      border: none;\n",
              "      border-radius: 50%;\n",
              "      cursor: pointer;\n",
              "      display: none;\n",
              "      fill: #1967D2;\n",
              "      height: 32px;\n",
              "      padding: 0 0 0 0;\n",
              "      width: 32px;\n",
              "    }\n",
              "\n",
              "    .colab-df-convert:hover {\n",
              "      background-color: #E2EBFA;\n",
              "      box-shadow: 0px 1px 2px rgba(60, 64, 67, 0.3), 0px 1px 3px 1px rgba(60, 64, 67, 0.15);\n",
              "      fill: #174EA6;\n",
              "    }\n",
              "\n",
              "    [theme=dark] .colab-df-convert {\n",
              "      background-color: #3B4455;\n",
              "      fill: #D2E3FC;\n",
              "    }\n",
              "\n",
              "    [theme=dark] .colab-df-convert:hover {\n",
              "      background-color: #434B5C;\n",
              "      box-shadow: 0px 1px 3px 1px rgba(0, 0, 0, 0.15);\n",
              "      filter: drop-shadow(0px 1px 2px rgba(0, 0, 0, 0.3));\n",
              "      fill: #FFFFFF;\n",
              "    }\n",
              "  </style>\n",
              "\n",
              "      <script>\n",
              "        const buttonEl =\n",
              "          document.querySelector('#df-75979de8-79b1-4459-9f58-6231906207dc button.colab-df-convert');\n",
              "        buttonEl.style.display =\n",
              "          google.colab.kernel.accessAllowed ? 'block' : 'none';\n",
              "\n",
              "        async function convertToInteractive(key) {\n",
              "          const element = document.querySelector('#df-75979de8-79b1-4459-9f58-6231906207dc');\n",
              "          const dataTable =\n",
              "            await google.colab.kernel.invokeFunction('convertToInteractive',\n",
              "                                                     [key], {});\n",
              "          if (!dataTable) return;\n",
              "\n",
              "          const docLinkHtml = 'Like what you see? Visit the ' +\n",
              "            '<a target=\"_blank\" href=https://colab.research.google.com/notebooks/data_table.ipynb>data table notebook</a>'\n",
              "            + ' to learn more about interactive tables.';\n",
              "          element.innerHTML = '';\n",
              "          dataTable['output_type'] = 'display_data';\n",
              "          await google.colab.output.renderOutput(dataTable, element);\n",
              "          const docLink = document.createElement('div');\n",
              "          docLink.innerHTML = docLinkHtml;\n",
              "          element.appendChild(docLink);\n",
              "        }\n",
              "      </script>\n",
              "    </div>\n",
              "  </div>\n",
              "  "
            ]
          },
          "metadata": {},
          "execution_count": 33
        }
      ]
    },
    {
      "cell_type": "code",
      "execution_count": null,
      "metadata": {
        "colab": {
          "base_uri": "https://localhost:8080/"
        },
        "id": "_wTJDGqi1Tls",
        "outputId": "db43ce20-8461-405e-9bd3-b6ce6cbffc7a"
      },
      "outputs": [
        {
          "output_type": "execute_result",
          "data": {
            "text/plain": [
              "(491, 3)"
            ]
          },
          "metadata": {},
          "execution_count": 34
        }
      ],
      "source": [
        "log_df.shape"
      ]
    },
    {
      "cell_type": "code",
      "execution_count": null,
      "metadata": {
        "id": "mVyMwNUY1Ti1"
      },
      "outputs": [],
      "source": [
        "log_df.head(20)"
      ]
    },
    {
      "cell_type": "code",
      "execution_count": null,
      "metadata": {
        "id": "f76IsGDo1Tf5"
      },
      "outputs": [],
      "source": [
        "log_df.tail(20)"
      ]
    },
    {
      "cell_type": "code",
      "execution_count": null,
      "metadata": {
        "id": "lU3Wvtek1Tc_"
      },
      "outputs": [],
      "source": [
        "# 수집한 데이터를 저장하는 경로 설정\n",
        "\n",
        "file_name = title + \".csv\"\n",
        "file_full_path = file_path + file_name\n"
      ]
    },
    {
      "cell_type": "code",
      "source": [
        "# 수집한 데이터를 csv 파일로 저장\n",
        "\n",
        "log_df.to_csv(file_full_path, index = False, encoding=\"utf-8-sig\")"
      ],
      "metadata": {
        "id": "R_yWqYNtmYMU"
      },
      "execution_count": null,
      "outputs": []
    },
    {
      "cell_type": "code",
      "execution_count": null,
      "metadata": {
        "id": "pnW3gEtP1TXH",
        "colab": {
          "base_uri": "https://localhost:8080/"
        },
        "outputId": "c1fa87bb-0791-4740-a927-1f184f1e4356"
      },
      "outputs": [
        {
          "output_type": "execute_result",
          "data": {
            "text/plain": [
              "(504, 3)"
            ]
          },
          "metadata": {},
          "execution_count": 27
        }
      ],
      "source": [
        "# 저장된 데이터 파일 확인\n",
        "\n",
        "report = pd.read_csv(file_full_path)\n",
        "\n",
        "report.shape\n"
      ]
    },
    {
      "cell_type": "code",
      "execution_count": null,
      "metadata": {
        "id": "DGJN603Q1TUg"
      },
      "outputs": [],
      "source": [
        "\n",
        "report.head(10)\n"
      ]
    },
    {
      "cell_type": "code",
      "execution_count": null,
      "metadata": {
        "id": "fnbPLLgn1TR4"
      },
      "outputs": [],
      "source": [
        "\n",
        "report.tail(10)\n"
      ]
    }
  ],
  "metadata": {
    "colab": {
      "provenance": []
    },
    "kernelspec": {
      "display_name": "Python 3",
      "language": "python",
      "name": "python3"
    },
    "language_info": {
      "codemirror_mode": {
        "name": "ipython",
        "version": 3
      },
      "file_extension": ".py",
      "mimetype": "text/x-python",
      "name": "python",
      "nbconvert_exporter": "python",
      "pygments_lexer": "ipython3",
      "version": "3.7.6"
    }
  },
  "nbformat": 4,
  "nbformat_minor": 0
}